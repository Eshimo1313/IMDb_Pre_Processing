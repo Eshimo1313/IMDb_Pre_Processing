{
 "cells": [
  {
   "cell_type": "code",
   "execution_count": null,
   "metadata": {},
   "outputs": [],
   "source": [
    "import pandas as pd\n",
    "import nltk\n",
    "from nltk.stem import PorterStemmer\n",
    "from nltk.corpus import stopwords\n",
    "import pycontractions\n",
    "from bs4 import BeautifulSoup\n",
    "\n",
    "nltk.download(\"stopwords\")\n",
    "nltk.download(\"punkt\")\n"
   ]
  },
  {
   "cell_type": "code",
   "execution_count": 9,
   "metadata": {},
   "outputs": [],
   "source": [
    "# path to Parquet file\n",
    "dataset = pd.read_parquet(\"../data/imdb/plain_text/train-00000-of-00001.parquet\")\n",
    "# Access text data (assuming column name is 'text')\n",
    "text_data = dataset[\"text\"]\n",
    "# Access class label data (assuming column name is 'label')\n",
    "class_labels = dataset[\"label\"]\n"
   ]
  },
  {
   "cell_type": "code",
   "execution_count": 12,
   "metadata": {},
   "outputs": [],
   "source": [
    "def preprocess_review(text):\n",
    "    # Convert text to lowercase\n",
    "    text = text.lower()\n",
    "    # Remove HTML tags\n",
    "    text = remove_html_tags(text)\n",
    "\n",
    "    # Tokenization\n",
    "    tokens = nltk.word_tokenize(text)\n",
    "\n",
    "    tokens = nltk.contractions.expand_contractions(tokens)\n",
    "\n",
    "    # Use NLTK to Remove Stop Words\n",
    "\n",
    "    stopWords = set(stopwords.words(\"english\"))\n",
    "    tokens = [token for token in tokens if token not in stopWords]\n",
    "\n",
    "    # Stemming\n",
    "    stemmer = PorterStemmer()  # Create a Porter Stemmer\n",
    "    stemmed_tokens = [stemmer.stem(token) for token in tokens]\n",
    "\n",
    "    # Join the preprocessed tokens back into text\n",
    "    preprocessed_text = \" \".join(stemmed_tokens)\n",
    "\n",
    "    return preprocessed_text\n",
    "\n",
    "\n",
    "def remove_html_tags(text):\n",
    "    soup = BeautifulSoup(text, \"html.parser\")\n",
    "    return soup.get_text()  # Get text without tags"
   ]
  },
  {
   "cell_type": "code",
   "execution_count": 11,
   "metadata": {},
   "outputs": [
    {
     "name": "stderr",
     "output_type": "stream",
     "text": [
      "C:\\Users\\Nino\\AppData\\Local\\Temp\\ipykernel_8560\\1266887604.py:44: MarkupResemblesLocatorWarning: The input looks more like a filename than markup. You may want to open this file and pass the filehandle into Beautiful Soup.\n",
      "  soup = BeautifulSoup(text, \"html.parser\")\n"
     ]
    }
   ],
   "source": [
    "# Preprocess text data\n",
    "preprocessed_text = []\n",
    "for review in text_data:\n",
    "    preprocessed_text.append(preprocess_review(review))\n",
    "\n",
    "df = pd.DataFrame(\n",
    "    {\n",
    "        \"original_text\": text_data,\n",
    "        \"preprocessed_text\": preprocessed_text,\n",
    "        \"label\": class_labels,\n",
    "    }\n",
    ")\n",
    "df.to_csv(\"preprocessed_data.csv\", index=False)  # Save as CSV\n"
   ]
  }
 ],
 "metadata": {
  "kernelspec": {
   "display_name": ".venv",
   "language": "python",
   "name": "python3"
  },
  "language_info": {
   "codemirror_mode": {
    "name": "ipython",
    "version": 3
   },
   "file_extension": ".py",
   "mimetype": "text/x-python",
   "name": "python",
   "nbconvert_exporter": "python",
   "pygments_lexer": "ipython3",
   "version": "3.11.8"
  }
 },
 "nbformat": 4,
 "nbformat_minor": 2
}
