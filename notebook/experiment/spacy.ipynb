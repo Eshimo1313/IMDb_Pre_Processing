{
 "cells": [
  {
   "cell_type": "markdown",
   "metadata": {},
   "source": [
    "# 1- Libreris"
   ]
  },
  {
   "cell_type": "code",
   "execution_count": 16,
   "metadata": {},
   "outputs": [],
   "source": [
    "import spacy\n",
    "import pandas as pd\n",
    "from bs4 import BeautifulSoup"
   ]
  },
  {
   "cell_type": "markdown",
   "metadata": {},
   "source": [
    "# 2- Load Dataset"
   ]
  },
  {
   "cell_type": "code",
   "execution_count": 17,
   "metadata": {},
   "outputs": [],
   "source": [
    "# path to Parquet file\n",
    "dataset = pd.read_parquet(\"../data/imdb/plain_text/train-00000-of-00001.parquet\")\n",
    "# Access text data (assuming column name is 'text')\n",
    "text_data = dataset[\"text\"]\n",
    "# Access class label data (assuming column name is 'label')\n",
    "class_labels = dataset[\"label\"]"
   ]
  },
  {
   "cell_type": "markdown",
   "metadata": {},
   "source": [
    "# 3- pre processing  function"
   ]
  },
  {
   "cell_type": "code",
   "execution_count": 36,
   "metadata": {},
   "outputs": [],
   "source": [
    "def preprocess_review(text):\n",
    "    \"\"\"\n",
    "    preprocesses a single text review using spaCy.\n",
    "\n",
    "    Args:\n",
    "        text (str): The text of the movie review.\n",
    "\n",
    "    Returns:\n",
    "        List: The preprocessed text review.\n",
    "    \"\"\"\n",
    "    # Convert text to lowercase\n",
    "    text = text.lower()\n",
    "\n",
    "    # Remove HTML tags\n",
    "    text = remove_html_tags(text)\n",
    "\n",
    "    # Use spaCy for batch processing\n",
    "    nlp = spacy.load(\"en_core_web_sm\")\n",
    "    processed_docs = nlp.pipe(text, batch_size=512 ,n_process=-1)\n",
    "\n",
    "\n",
    "    preprocessed_text = []\n",
    "    for doc in processed_docs:\n",
    "        # Since nlp.pipe returns an iterator of Doc objects, access individual tokens within the loop\n",
    "        tokens = [token.text for token in doc if token.is_alpha and token.text not in spacy.lang.en.stop_words.STOP_WORDS]\n",
    "        preprocessed_text.append(' '.join(tokens))\n",
    "\n",
    "    return preprocessed_text\n",
    "\n",
    "\n",
    "def remove_html_tags(text):\n",
    "    \"\"\"\n",
    "    Removes HTML tags from text using BeautifulSoup\n",
    "\n",
    "    Args:\n",
    "        text (str): Text containing HTML tags.\n",
    "\n",
    "    Returns:\n",
    "        str: Text with HTML tags removed.\n",
    "    \"\"\"\n",
    "    soup = BeautifulSoup(text, \"html.parser\")\n",
    "    return soup.get_text()"
   ]
  },
  {
   "cell_type": "markdown",
   "metadata": {},
   "source": [
    " # 4- Run and save to pandas data frame"
   ]
  },
  {
   "cell_type": "code",
   "execution_count": null,
   "metadata": {},
   "outputs": [],
   "source": [
    "# Preprocess text data\n",
    "preprocessed_text = []\n",
    "for review in text_data:\n",
    "    preprocessed_text.append(preprocess_review(review))\n",
    "\n",
    "df = pd.DataFrame(\n",
    "    {\n",
    "        \"original_text\": text_data,\n",
    "        \"preprocessed_text\": preprocessed_text,\n",
    "        \"label\": class_labels,\n",
    "    }\n",
    ")\n",
    "df.to_csv(\"preprocessed_data.csv\", index=False)  # Save as CSV"
   ]
  }
 ],
 "metadata": {
  "kernelspec": {
   "display_name": ".venv",
   "language": "python",
   "name": "python3"
  },
  "language_info": {
   "codemirror_mode": {
    "name": "ipython",
    "version": 3
   },
   "file_extension": ".py",
   "mimetype": "text/x-python",
   "name": "python",
   "nbconvert_exporter": "python",
   "pygments_lexer": "ipython3",
   "version": "3.11.8"
  }
 },
 "nbformat": 4,
 "nbformat_minor": 2
}
